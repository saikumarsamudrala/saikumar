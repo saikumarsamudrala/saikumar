{
  "nbformat": 4,
  "nbformat_minor": 0,
  "metadata": {
    "colab": {
      "name": "Untitled6.ipynb",
      "version": "0.3.2",
      "provenance": [],
      "include_colab_link": true
    },
    "kernelspec": {
      "name": "python3",
      "display_name": "Python 3"
    }
  },
  "cells": [
    {
      "cell_type": "markdown",
      "metadata": {
        "id": "view-in-github",
        "colab_type": "text"
      },
      "source": [
        "<a href=\"https://colab.research.google.com/github/saikumarsamudrala/saikumar/blob/master/Untitled6.ipynb\" target=\"_parent\"><img src=\"https://colab.research.google.com/assets/colab-badge.svg\" alt=\"Open In Colab\"/></a>"
      ]
    },
    {
      "cell_type": "code",
      "metadata": {
        "id": "UsIw749uBwTS",
        "colab_type": "code",
        "colab": {}
      },
      "source": [
        ""
      ],
      "execution_count": 0,
      "outputs": []
    },
    {
      "cell_type": "markdown",
      "metadata": {
        "id": "_tNUV-qYCY5g",
        "colab_type": "text"
      },
      "source": [
        "#create file"
      ]
    },
    {
      "cell_type": "code",
      "metadata": {
        "id": "_y1CQ9yoFHtT",
        "colab_type": "code",
        "colab": {
          "base_uri": "https://localhost:8080/",
          "height": 34
        },
        "outputId": "804ab76c-4465-4390-92a5-b32c982f9806"
      },
      "source": [
        "def createfile(filename):\n",
        "    f=open(filename,\"w\")\n",
        "    for i in range(10):\n",
        "     f.write(\"this is %d line\\n\"%i)\n",
        "    print(\"file is created successfully and is written\")\n",
        "    f.close()\n",
        "    return\n",
        "createfile(\"file1.txt\")\n",
        "  "
      ],
      "execution_count": 3,
      "outputs": [
        {
          "output_type": "stream",
          "text": [
            "file is created successfully and is written\n"
          ],
          "name": "stdout"
        }
      ]
    },
    {
      "cell_type": "markdown",
      "metadata": {
        "id": "3vgrOrUOGRca",
        "colab_type": "text"
      },
      "source": [
        "#"
      ]
    },
    {
      "cell_type": "code",
      "metadata": {
        "id": "bq4NM45VHjZW",
        "colab_type": "code",
        "colab": {
          "base_uri": "https://localhost:8080/",
          "height": 204
        },
        "outputId": "381fd862-6f2a-4074-ae66-4b9e7d8c51cf"
      },
      "source": [
        "def readfile(filename):\n",
        "    f=open(filename,\"r\")\n",
        "    if f.mode=='r':\n",
        "        x=f.read()\n",
        "        print(x)\n",
        "    f.close()\n",
        "    return\n",
        "  \n",
        "readfile(\"file1.txt\")"
      ],
      "execution_count": 10,
      "outputs": [
        {
          "output_type": "stream",
          "text": [
            "this is 0 line\n",
            "this is 1 line\n",
            "this is 2 line\n",
            "this is 3 line\n",
            "this is 4 line\n",
            "this is 5 line\n",
            "this is 6 line\n",
            "this is 7 line\n",
            "this is 8 line\n",
            "this is 9 line\n",
            "\n"
          ],
          "name": "stdout"
        }
      ]
    },
    {
      "cell_type": "code",
      "metadata": {
        "id": "JptoA5MwLJBA",
        "colab_type": "code",
        "colab": {
          "base_uri": "https://localhost:8080/",
          "height": 197
        },
        "outputId": "92308507-8d6a-4e7a-c54e-c0a916b2b6bc"
      },
      "source": [
        "def dataanlyasiswordcount(filename,word):\n",
        "    f=open(filename,\"r\")\n",
        "    if f.mode==\"r\":\n",
        "        x=f.read()\n",
        "        lst=x.split()\n",
        "    cnt=lst.count(word)\n",
        "    return cnt\n",
        "      \n",
        "      \n",
        "print(dataanalyasiswordcount(\"file1.txt\",\"1\"))"
      ],
      "execution_count": 14,
      "outputs": [
        {
          "output_type": "error",
          "ename": "NameError",
          "evalue": "ignored",
          "traceback": [
            "\u001b[0;31m---------------------------------------------------------------------------\u001b[0m",
            "\u001b[0;31mNameError\u001b[0m                                 Traceback (most recent call last)",
            "\u001b[0;32m<ipython-input-14-6eadf2594fc3>\u001b[0m in \u001b[0;36m<module>\u001b[0;34m()\u001b[0m\n\u001b[1;32m      8\u001b[0m \u001b[0;34m\u001b[0m\u001b[0m\n\u001b[1;32m      9\u001b[0m \u001b[0;34m\u001b[0m\u001b[0m\n\u001b[0;32m---> 10\u001b[0;31m \u001b[0mprint\u001b[0m\u001b[0;34m(\u001b[0m\u001b[0mdataanalyasiswordcount\u001b[0m\u001b[0;34m(\u001b[0m\u001b[0;34m\"file1.txt\"\u001b[0m\u001b[0;34m,\u001b[0m\u001b[0;34m\"1\"\u001b[0m\u001b[0;34m)\u001b[0m\u001b[0;34m)\u001b[0m\u001b[0;34m\u001b[0m\u001b[0;34m\u001b[0m\u001b[0m\n\u001b[0m",
            "\u001b[0;31mNameError\u001b[0m: name 'dataanalyasiswordcount' is not defined"
          ]
        }
      ]
    },
    {
      "cell_type": "code",
      "metadata": {
        "id": "fIlvKdcLEVbY",
        "colab_type": "code",
        "colab": {}
      },
      "source": [
        ""
      ],
      "execution_count": 0,
      "outputs": []
    }
  ]
}