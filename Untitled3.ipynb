{
  "nbformat": 4,
  "nbformat_minor": 0,
  "metadata": {
    "colab": {
      "name": "Untitled3.ipynb",
      "version": "0.3.2",
      "provenance": [],
      "toc_visible": true,
      "include_colab_link": true
    },
    "kernelspec": {
      "name": "python3",
      "display_name": "Python 3"
    }
  },
  "cells": [
    {
      "cell_type": "markdown",
      "metadata": {
        "id": "view-in-github",
        "colab_type": "text"
      },
      "source": [
        "<a href=\"https://colab.research.google.com/github/saikumarsamudrala/saikumar/blob/master/Untitled3.ipynb\" target=\"_parent\"><img src=\"https://colab.research.google.com/assets/colab-badge.svg\" alt=\"Open In Colab\"/></a>"
      ]
    },
    {
      "cell_type": "code",
      "metadata": {
        "id": "qe6KG1Jnp1OD",
        "colab_type": "code",
        "colab": {}
      },
      "source": [
        ""
      ],
      "execution_count": 0,
      "outputs": []
    },
    {
      "cell_type": "code",
      "metadata": {
        "id": "YJ0zmPp3qBMR",
        "colab_type": "code",
        "colab": {}
      },
      "source": [
        "def printEven(n):\n",
        "  cnt=0;\n",
        "  sum=0;\n",
        "  while(cnt!=n):\n",
        "    if(cnt%2==0):\n",
        "      sum=sum+cnt;\n",
        "      cnt=cnt+1;\n",
        "    return sum;\n",
        "print(printEven(20));"
      ],
      "execution_count": 0,
      "outputs": []
    },
    {
      "cell_type": "markdown",
      "metadata": {
        "id": "L5b9slgdrm9s",
        "colab_type": "text"
      },
      "source": [
        "#example funtional programming"
      ]
    },
    {
      "cell_type": "code",
      "metadata": {
        "id": "V1KCws5Brvvk",
        "colab_type": "code",
        "colab": {}
      },
      "source": [
        "def factorslist(n):\n",
        "  i=1;\n",
        "  while(i!=n):\n",
        "    if(n%i==0):\n",
        "       print(i,end=\" \");\n",
        "    i=i+1;\n",
        "    return;\n",
        "  factorslist(12);"
      ],
      "execution_count": 0,
      "outputs": []
    },
    {
      "cell_type": "code",
      "metadata": {
        "id": "QPD16fTiuBzw",
        "colab_type": "code",
        "colab": {}
      },
      "source": [
        ""
      ],
      "execution_count": 0,
      "outputs": []
    },
    {
      "cell_type": "markdown",
      "metadata": {
        "id": "IMqZ2995uCAI",
        "colab_type": "text"
      },
      "source": [
        ""
      ]
    },
    {
      "cell_type": "code",
      "metadata": {
        "id": "DlYX0bAkulJ1",
        "colab_type": "code",
        "colab": {
          "base_uri": "https://localhost:8080/",
          "height": 34
        },
        "outputId": "dbc31605-2deb-4905-91d9-5c9d3b6ae029"
      },
      "source": [
        "list1=[1,2,3,4,5];\n",
        "print(list1)"
      ],
      "execution_count": 8,
      "outputs": [
        {
          "output_type": "stream",
          "text": [
            "[1, 2, 3, 4, 5]\n"
          ],
          "name": "stdout"
        }
      ]
    },
    {
      "cell_type": "markdown",
      "metadata": {
        "id": "EX1L2fuMxSdC",
        "colab_type": "text"
      },
      "source": [
        "# loops"
      ]
    },
    {
      "cell_type": "code",
      "metadata": {
        "id": "fbIFwSWAxSyp",
        "colab_type": "code",
        "colab": {
          "base_uri": "https://localhost:8080/",
          "height": 34
        },
        "outputId": "a3a36cde-57fd-4963-a714-daf9a756516f"
      },
      "source": [
        "list2=[\"sai\",\"vikas\"]\n",
        "for X in list2:\n",
        "  print(X,end=\" \")"
      ],
      "execution_count": 10,
      "outputs": [
        {
          "output_type": "stream",
          "text": [
            "sai vikas "
          ],
          "name": "stdout"
        }
      ]
    },
    {
      "cell_type": "markdown",
      "metadata": {
        "id": "aDhLRLb6yaWw",
        "colab_type": "text"
      },
      "source": [
        "#example"
      ]
    },
    {
      "cell_type": "code",
      "metadata": {
        "id": "tAfjJn6hyeTQ",
        "colab_type": "code",
        "colab": {
          "base_uri": "https://localhost:8080/",
          "height": 68
        },
        "outputId": "703ad8d8-7dce-44e6-9efc-67bd8a571a1f"
      },
      "source": [
        "list1=[1,5,6,2,3]\n",
        "for x in list1:\n",
        "  print(x,end=\" \")\n",
        "\n",
        "print()\n",
        "print(list1[2])\n",
        "print(list1[0:3]);"
      ],
      "execution_count": 23,
      "outputs": [
        {
          "output_type": "stream",
          "text": [
            "1 5 6 2 3 \n",
            "6\n",
            "[1, 5, 6]\n"
          ],
          "name": "stdout"
        }
      ]
    },
    {
      "cell_type": "markdown",
      "metadata": {
        "id": "WNWEBeM8z6Pp",
        "colab_type": "text"
      },
      "source": [
        ""
      ]
    }
  ]
}