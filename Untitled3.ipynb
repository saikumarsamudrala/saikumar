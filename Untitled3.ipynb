{
  "nbformat": 4,
  "nbformat_minor": 0,
  "metadata": {
    "colab": {
      "name": "Untitled3.ipynb",
      "version": "0.3.2",
      "provenance": [],
      "collapsed_sections": [],
      "include_colab_link": true
    },
    "kernelspec": {
      "name": "python3",
      "display_name": "Python 3"
    }
  },
  "cells": [
    {
      "cell_type": "markdown",
      "metadata": {
        "id": "view-in-github",
        "colab_type": "text"
      },
      "source": [
        "<a href=\"https://colab.research.google.com/github/saikumarsamudrala/saikumar/blob/master/Untitled3.ipynb\" target=\"_parent\"><img src=\"https://colab.research.google.com/assets/colab-badge.svg\" alt=\"Open In Colab\"/></a>"
      ]
    },
    {
      "cell_type": "code",
      "metadata": {
        "id": "qe6KG1Jnp1OD",
        "colab_type": "code",
        "colab": {}
      },
      "source": [
        ""
      ],
      "execution_count": 0,
      "outputs": []
    },
    {
      "cell_type": "code",
      "metadata": {
        "id": "YJ0zmPp3qBMR",
        "colab_type": "code",
        "colab": {}
      },
      "source": [
        "def printEven(n):\n",
        "  cnt=0;\n",
        "  sum=0;\n",
        "  while(cnt!=n):\n",
        "    if(cnt%2==0):\n",
        "      sum=sum+cnt;\n",
        "      cnt=cnt+1;\n",
        "    return sum;\n",
        "print(printEven(20));"
      ],
      "execution_count": 0,
      "outputs": []
    },
    {
      "cell_type": "markdown",
      "metadata": {
        "id": "L5b9slgdrm9s",
        "colab_type": "text"
      },
      "source": [
        "#example funtional programming"
      ]
    },
    {
      "cell_type": "code",
      "metadata": {
        "id": "V1KCws5Brvvk",
        "colab_type": "code",
        "colab": {}
      },
      "source": [
        "def factorslist(n):\n",
        "  i=1;\n",
        "  while(i!=n):\n",
        "    if(n%i==0):\n",
        "       print(i,end=\" \");\n",
        "    i=i+1;\n",
        "    return;\n",
        "  factorslist(12);"
      ],
      "execution_count": 0,
      "outputs": []
    },
    {
      "cell_type": "code",
      "metadata": {
        "id": "QPD16fTiuBzw",
        "colab_type": "code",
        "colab": {}
      },
      "source": [
        ""
      ],
      "execution_count": 0,
      "outputs": []
    },
    {
      "cell_type": "markdown",
      "metadata": {
        "id": "IMqZ2995uCAI",
        "colab_type": "text"
      },
      "source": [
        ""
      ]
    },
    {
      "cell_type": "code",
      "metadata": {
        "id": "DlYX0bAkulJ1",
        "colab_type": "code",
        "outputId": "dbc31605-2deb-4905-91d9-5c9d3b6ae029",
        "colab": {
          "base_uri": "https://localhost:8080/",
          "height": 34
        }
      },
      "source": [
        "list1=[1,2,3,4,5];\n",
        "print(list1)"
      ],
      "execution_count": 0,
      "outputs": [
        {
          "output_type": "stream",
          "text": [
            "[1, 2, 3, 4, 5]\n"
          ],
          "name": "stdout"
        }
      ]
    },
    {
      "cell_type": "markdown",
      "metadata": {
        "id": "EX1L2fuMxSdC",
        "colab_type": "text"
      },
      "source": [
        "# loops"
      ]
    },
    {
      "cell_type": "code",
      "metadata": {
        "id": "fbIFwSWAxSyp",
        "colab_type": "code",
        "outputId": "a3a36cde-57fd-4963-a714-daf9a756516f",
        "colab": {
          "base_uri": "https://localhost:8080/",
          "height": 34
        }
      },
      "source": [
        "list2=[\"sai\",\"vikas\"]\n",
        "for X in list2:\n",
        "  print(X,end=\" \")"
      ],
      "execution_count": 0,
      "outputs": [
        {
          "output_type": "stream",
          "text": [
            "sai vikas "
          ],
          "name": "stdout"
        }
      ]
    },
    {
      "cell_type": "markdown",
      "metadata": {
        "id": "aDhLRLb6yaWw",
        "colab_type": "text"
      },
      "source": [
        "#example"
      ]
    },
    {
      "cell_type": "code",
      "metadata": {
        "id": "tAfjJn6hyeTQ",
        "colab_type": "code",
        "outputId": "703ad8d8-7dce-44e6-9efc-67bd8a571a1f",
        "colab": {
          "base_uri": "https://localhost:8080/",
          "height": 68
        }
      },
      "source": [
        "list1=[1,5,6,2,3]\n",
        "for x in list1:\n",
        "  print(x,end=\" \")\n",
        "\n",
        "print()\n",
        "print(list1[2])\n",
        "print(list1[0:3]);"
      ],
      "execution_count": 0,
      "outputs": [
        {
          "output_type": "stream",
          "text": [
            "1 5 6 2 3 \n",
            "6\n",
            "[1, 5, 6]\n"
          ],
          "name": "stdout"
        }
      ]
    },
    {
      "cell_type": "markdown",
      "metadata": {
        "id": "WNWEBeM8z6Pp",
        "colab_type": "text"
      },
      "source": [
        "example "
      ]
    },
    {
      "cell_type": "code",
      "metadata": {
        "id": "1S_tr8Ac1pM7",
        "colab_type": "code",
        "outputId": "a7802237-d53b-49a3-90cb-322359334d47",
        "colab": {
          "base_uri": "https://localhost:8080/",
          "height": 119
        }
      },
      "source": [
        "list1=[1,5,6,2,3,4,2,2]\n",
        "for x in list1:\n",
        "  print(x,end=\" \")\n",
        "\n",
        "print();\n",
        "print(list1[1:-1])\n",
        "print(list1[::2])\n",
        "print(list1[::-2])\n",
        "print(list1[-1])\n",
        "print(list1[-8])"
      ],
      "execution_count": 0,
      "outputs": [
        {
          "output_type": "stream",
          "text": [
            "1 5 6 2 3 4 2 2 \n",
            "[5, 6, 2, 3, 4, 2]\n",
            "[1, 6, 3, 2]\n",
            "[2, 4, 2, 5]\n",
            "2\n",
            "1\n"
          ],
          "name": "stdout"
        }
      ]
    },
    {
      "cell_type": "markdown",
      "metadata": {
        "id": "eHgkZF0Y5Qiq",
        "colab_type": "text"
      },
      "source": [
        "#example"
      ]
    },
    {
      "cell_type": "code",
      "metadata": {
        "id": "0gxoX4LQ5S2l",
        "colab_type": "code",
        "outputId": "5013b5a3-d557-4995-8118-d2807e55b28d",
        "colab": {
          "base_uri": "https://localhost:8080/",
          "height": 102
        }
      },
      "source": [
        "list1=[\"anil\",\"sai\",\"ram\"]\n",
        "print(list1);\n",
        "list1[1]=15;\n",
        "print(list1)\n",
        "list1[0]=\"gitam\"\n",
        "print(list1)\n",
        "list2=[1,3,52]\n",
        "print(list2)\n",
        "print(list1+list2)"
      ],
      "execution_count": 0,
      "outputs": [
        {
          "output_type": "stream",
          "text": [
            "['anil', 'sai', 'ram']\n",
            "['anil', 15, 'ram']\n",
            "['gitam', 15, 'ram']\n",
            "[1, 3, 52]\n",
            "['gitam', 15, 'ram', 1, 3, 52]\n"
          ],
          "name": "stdout"
        }
      ]
    },
    {
      "cell_type": "markdown",
      "metadata": {
        "id": "3QOROAPb89AU",
        "colab_type": "text"
      },
      "source": [
        "#example"
      ]
    },
    {
      "cell_type": "code",
      "metadata": {
        "id": "crMCoCua9Bpc",
        "colab_type": "code",
        "outputId": "ccd6c22f-94bf-42d5-fc03-d717aa7ef32f",
        "colab": {
          "base_uri": "https://localhost:8080/",
          "height": 102
        }
      },
      "source": [
        "list1=[1,5,3,4,5,62,4]\n",
        "print(list1)\n",
        "del list1[1];\n",
        "print(list1)\n",
        "print(len(list1))\n",
        "list1.append(5)\n",
        "print(list1)\n",
        "print(list1.count(1))"
      ],
      "execution_count": 0,
      "outputs": [
        {
          "output_type": "stream",
          "text": [
            "[1, 5, 3, 4, 5, 62, 4]\n",
            "[1, 3, 4, 5, 62, 4]\n",
            "6\n",
            "[1, 3, 4, 5, 62, 4, 5]\n",
            "1\n"
          ],
          "name": "stdout"
        }
      ]
    },
    {
      "cell_type": "markdown",
      "metadata": {
        "id": "TmbO5qeEI1ph",
        "colab_type": "text"
      },
      "source": [
        "#example"
      ]
    },
    {
      "cell_type": "code",
      "metadata": {
        "id": "brWhXkT1J0yd",
        "colab_type": "code",
        "outputId": "9813eb1a-ad68-4719-bebe-bb6d712ef9e5",
        "colab": {
          "base_uri": "https://localhost:8080/",
          "height": 102
        }
      },
      "source": [
        "list1=[\"gitam\",\"python\",\"c\",\"raptor\"]\n",
        "print(list1)\n",
        "print(len(list1))\n",
        "list1.insert(2,2019)\n",
        "print(list1)\n",
        "list1.remove(\"python\")\n",
        "print(list1)\n",
        "list1.reverse()\n",
        "print(list1)"
      ],
      "execution_count": 0,
      "outputs": [
        {
          "output_type": "stream",
          "text": [
            "['gitam', 'python', 'c', 'raptor']\n",
            "4\n",
            "['gitam', 'python', 2019, 'c', 'raptor']\n",
            "['gitam', 2019, 'c', 'raptor']\n",
            "['raptor', 'c', 2019, 'gitam']\n"
          ],
          "name": "stdout"
        }
      ]
    },
    {
      "cell_type": "markdown",
      "metadata": {
        "id": "Yucd5z99SmNC",
        "colab_type": "text"
      },
      "source": [
        "example"
      ]
    },
    {
      "cell_type": "code",
      "metadata": {
        "id": "xHDjg_isSoCk",
        "colab_type": "code",
        "outputId": "7561b421-2717-465c-f8d6-74e84dabe820",
        "colab": {
          "base_uri": "https://localhost:8080/",
          "height": 34
        }
      },
      "source": [
        "def linearsearch(a,taritem):\n",
        "  flag=0;\n",
        "  for i in range(len(a)):\n",
        "    if a[i]==taritem:\n",
        "      flag=1;\n",
        "      break\n",
        "  if(flag!=0):\n",
        "        print(\"target item is found\")\n",
        "  else:\n",
        "          print(\"target item is not found\")\n",
        "a=[1,3,4,6,5,0]\n",
        "linearsearch(a,5)"
      ],
      "execution_count": 0,
      "outputs": [
        {
          "output_type": "stream",
          "text": [
            "target item is found\n"
          ],
          "name": "stdout"
        }
      ]
    },
    {
      "cell_type": "markdown",
      "metadata": {
        "id": "lSQR1AKtWL35",
        "colab_type": "text"
      },
      "source": [
        "#example\n"
      ]
    },
    {
      "cell_type": "code",
      "metadata": {
        "id": "fOK9xzstWQHH",
        "colab_type": "code",
        "outputId": "864c77c6-80b0-4220-f340-bb6b845c371f",
        "colab": {
          "base_uri": "https://localhost:8080/",
          "height": 197
        }
      },
      "source": [
        "def linearsearchduplicate(a,taritem):\n",
        "  flag=0\n",
        "  for i in range(len(a)):\n",
        "    if a[i]==taritem:\n",
        "      flag=flag+1\n",
        "      \n",
        "  print(flag)\n",
        "a=[2,4,5,6,7,7] \n",
        "linearsearchdupilcate(a,7)"
      ],
      "execution_count": 69,
      "outputs": [
        {
          "output_type": "error",
          "ename": "NameError",
          "evalue": "ignored",
          "traceback": [
            "\u001b[0;31m---------------------------------------------------------------------------\u001b[0m",
            "\u001b[0;31mNameError\u001b[0m                                 Traceback (most recent call last)",
            "\u001b[0;32m<ipython-input-69-20797956a21e>\u001b[0m in \u001b[0;36m<module>\u001b[0;34m()\u001b[0m\n\u001b[1;32m      7\u001b[0m   \u001b[0mprint\u001b[0m\u001b[0;34m(\u001b[0m\u001b[0mflag\u001b[0m\u001b[0;34m)\u001b[0m\u001b[0;34m\u001b[0m\u001b[0;34m\u001b[0m\u001b[0m\n\u001b[1;32m      8\u001b[0m \u001b[0ma\u001b[0m\u001b[0;34m=\u001b[0m\u001b[0;34m[\u001b[0m\u001b[0;36m2\u001b[0m\u001b[0;34m,\u001b[0m\u001b[0;36m4\u001b[0m\u001b[0;34m,\u001b[0m\u001b[0;36m5\u001b[0m\u001b[0;34m,\u001b[0m\u001b[0;36m6\u001b[0m\u001b[0;34m,\u001b[0m\u001b[0;36m7\u001b[0m\u001b[0;34m,\u001b[0m\u001b[0;36m7\u001b[0m\u001b[0;34m]\u001b[0m\u001b[0;34m\u001b[0m\u001b[0;34m\u001b[0m\u001b[0m\n\u001b[0;32m----> 9\u001b[0;31m \u001b[0mlinearsearchdupilcate\u001b[0m\u001b[0;34m(\u001b[0m\u001b[0ma\u001b[0m\u001b[0;34m,\u001b[0m\u001b[0;36m7\u001b[0m\u001b[0;34m)\u001b[0m\u001b[0;34m\u001b[0m\u001b[0;34m\u001b[0m\u001b[0m\n\u001b[0m",
            "\u001b[0;31mNameError\u001b[0m: name 'linearsearchdupilcate' is not defined"
          ]
        }
      ]
    },
    {
      "cell_type": "markdown",
      "metadata": {
        "id": "03qtWZfQqQQp",
        "colab_type": "text"
      },
      "source": [
        "#example1"
      ]
    },
    {
      "cell_type": "code",
      "metadata": {
        "id": "G-vuDHqIqjTY",
        "colab_type": "code",
        "colab": {
          "base_uri": "https://localhost:8080/",
          "height": 34
        },
        "outputId": "bcd36e90-b5e5-422b-8236-2de801088c34"
      },
      "source": [
        "def linearexample1(a,taritem):\n",
        "  flag=0;\n",
        "  for i in range(len(a)):\n",
        "    if a[i]==taritem:\n",
        "      flag=1;\n",
        "      break\n",
        "  if(flag!=0):\n",
        "        print(\"target item is found\")\n",
        "  else:\n",
        "          print(\"target item is not found\")\n",
        "a=[1,5,9,6,5,15,12,5]\n",
        "linearexample1(a,5)\n",
        " "
      ],
      "execution_count": 68,
      "outputs": [
        {
          "output_type": "stream",
          "text": [
            "target item is found\n"
          ],
          "name": "stdout"
        }
      ]
    },
    {
      "cell_type": "markdown",
      "metadata": {
        "id": "o14CWe_jsXkt",
        "colab_type": "text"
      },
      "source": [
        "#EXAMPLE"
      ]
    },
    {
      "cell_type": "code",
      "metadata": {
        "id": "X32Uze7os-9O",
        "colab_type": "code",
        "colab": {
          "base_uri": "https://localhost:8080/",
          "height": 34
        },
        "outputId": "961ffb34-56ce-49be-c82c-9b1fdfd28a92"
      },
      "source": [
        "def linearsearchexample2(a,taritem):\n",
        "    for i in range(len(a)):\n",
        "      if a[i]==taritem:\n",
        "          j=0\n",
        "          while j!=i+1:\n",
        "              print(\"!\",end=\" \")\n",
        "              j=j+1\n",
        "          print(end=\" \")\n",
        "        \n",
        "        \n",
        "a=[1,3,4,6,4,5]\n",
        "linearsearchexample2(a,3)"
      ],
      "execution_count": 79,
      "outputs": [
        {
          "output_type": "stream",
          "text": [
            "! !  "
          ],
          "name": "stdout"
        }
      ]
    },
    {
      "cell_type": "markdown",
      "metadata": {
        "id": "Jm7u9fnpzIfp",
        "colab_type": "text"
      },
      "source": [
        "#example4"
      ]
    },
    {
      "cell_type": "code",
      "metadata": {
        "id": "oBxyKJUMzRsJ",
        "colab_type": "code",
        "colab": {
          "base_uri": "https://localhost:8080/",
          "height": 129
        },
        "outputId": "42cae829-986f-42ea-952a-bbdb1e30d5e8"
      },
      "source": [
        "def examle3(a):\n",
        "    sum=0;\n",
        "  for i in range(len(a)):\n",
        "      if a[i]%3==0 and a[i]%5==0;\n",
        "         sum=sum+a[i]\n",
        "  return sum\n",
        "a=[15,8.45,15]\n",
        "example(a)"
      ],
      "execution_count": 88,
      "outputs": [
        {
          "output_type": "error",
          "ename": "IndentationError",
          "evalue": "ignored",
          "traceback": [
            "\u001b[0;36m  File \u001b[0;32m\"<ipython-input-88-fd54286ec5e9>\"\u001b[0;36m, line \u001b[0;32m3\u001b[0m\n\u001b[0;31m    for i in range(len(a)):\u001b[0m\n\u001b[0m                           ^\u001b[0m\n\u001b[0;31mIndentationError\u001b[0m\u001b[0;31m:\u001b[0m unindent does not match any outer indentation level\n"
          ]
        }
      ]
    },
    {
      "cell_type": "code",
      "metadata": {
        "id": "MFLM0Pzc6GNy",
        "colab_type": "code",
        "colab": {}
      },
      "source": [
        "def linearformatedoutpu(a);\n",
        "    for i in range(len(a)):\n",
        "        if i[a]"
      ],
      "execution_count": 0,
      "outputs": []
    },
    {
      "cell_type": "markdown",
      "metadata": {
        "id": "9mQmui1hIzRD",
        "colab_type": "text"
      },
      "source": [
        "#number conversion"
      ]
    },
    {
      "cell_type": "code",
      "metadata": {
        "id": "VslQtzLqJJXS",
        "colab_type": "code",
        "colab": {}
      },
      "source": [
        "def numberconversion     "
      ],
      "execution_count": 0,
      "outputs": []
    }
  ]
}