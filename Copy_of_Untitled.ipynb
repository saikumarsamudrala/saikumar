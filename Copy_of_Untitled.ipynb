{
  "nbformat": 4,
  "nbformat_minor": 0,
  "metadata": {
    "colab": {
      "name": "Copy of Untitled",
      "version": "0.3.2",
      "provenance": [],
      "toc_visible": true,
      "include_colab_link": true
    },
    "kernelspec": {
      "name": "python3",
      "display_name": "Python 3"
    }
  },
  "cells": [
    {
      "cell_type": "markdown",
      "metadata": {
        "id": "view-in-github",
        "colab_type": "text"
      },
      "source": [
        "<a href=\"https://colab.research.google.com/github/saikumarsamudrala/saikumar/blob/master/Copy_of_Untitled.ipynb\" target=\"_parent\"><img src=\"https://colab.research.google.com/assets/colab-badge.svg\" alt=\"Open In Colab\"/></a>"
      ]
    },
    {
      "cell_type": "markdown",
      "metadata": {
        "id": "F-MxUm5b7Q7C",
        "colab_type": "text"
      },
      "source": [
        ""
      ]
    },
    {
      "cell_type": "code",
      "metadata": {
        "id": "NwjS7zCaCs2Q",
        "colab_type": "code",
        "colab": {}
      },
      "source": [
        ""
      ],
      "execution_count": 0,
      "outputs": []
    },
    {
      "cell_type": "code",
      "metadata": {
        "id": "3WZV9bK0Danj",
        "colab_type": "code",
        "colab": {}
      },
      "source": [
        ""
      ],
      "execution_count": 0,
      "outputs": []
    },
    {
      "cell_type": "code",
      "metadata": {
        "id": "HovGE8QH7eVh",
        "colab_type": "code",
        "colab": {}
      },
      "source": [
        "s=\"application\"\n",
        "s1=\"app188\""
      ],
      "execution_count": 0,
      "outputs": []
    },
    {
      "cell_type": "code",
      "metadata": {
        "id": "G-KTtZ_g8TA_",
        "colab_type": "code",
        "outputId": "229257f7-7045-4395-f604-745326712160",
        "colab": {
          "base_uri": "https://localhost:8080/",
          "height": 34
        }
      },
      "source": [
        "s=\"python programming\"\n",
        "s1=\"python programming\"\n",
        "print(s.isspace())"
      ],
      "execution_count": 0,
      "outputs": [
        {
          "output_type": "stream",
          "text": [
            "False\n"
          ],
          "name": "stdout"
        }
      ]
    },
    {
      "cell_type": "markdown",
      "metadata": {
        "id": "StCHjoIl-ijM",
        "colab_type": "text"
      },
      "source": [
        "#string methods\n",
        "1.join()\n",
        "2split()\n",
        "3 replace"
      ]
    },
    {
      "cell_type": "code",
      "metadata": {
        "id": "cl_MDyh7-3kq",
        "colab_type": "code",
        "outputId": "c997b78a-8a6e-4711-df23-9dc4cc7a83e6",
        "colab": {
          "base_uri": "https://localhost:8080/",
          "height": 34
        }
      },
      "source": [
        "str =\"python\"\n",
        "print(\" \".join(str))"
      ],
      "execution_count": 0,
      "outputs": [
        {
          "output_type": "stream",
          "text": [
            "p y t h o n\n"
          ],
          "name": "stdout"
        }
      ]
    },
    {
      "cell_type": "code",
      "metadata": {
        "id": "W3RmKRpA_SxC",
        "colab_type": "code",
        "outputId": "ee8429c1-5871-4e05-9c69-5b44abb00d81",
        "colab": {
          "base_uri": "https://localhost:8080/",
          "height": 34
        }
      },
      "source": [
        "s=\"python programming is easy \"\n",
        "print(s.split())"
      ],
      "execution_count": 0,
      "outputs": [
        {
          "output_type": "stream",
          "text": [
            "['python', 'programming', 'is', 'easy']\n"
          ],
          "name": "stdout"
        }
      ]
    },
    {
      "cell_type": "code",
      "metadata": {
        "id": "Aud0jA0aC3iO",
        "colab_type": "code",
        "outputId": "1e9ebdf8-415b-4886-e218-f97ccc65f68d",
        "colab": {
          "base_uri": "https://localhost:8080/",
          "height": 51
        }
      },
      "source": [
        "s=\"python programming is easy \"\n",
        "lst=s.split()\n",
        "print(lst)\n",
        "print(lst.index(\"is\"))"
      ],
      "execution_count": 0,
      "outputs": [
        {
          "output_type": "stream",
          "text": [
            "['python', 'programming', 'is', 'easy']\n",
            "2\n"
          ],
          "name": "stdout"
        }
      ]
    },
    {
      "cell_type": "code",
      "metadata": {
        "id": "NBrJM2qkFFwY",
        "colab_type": "code",
        "outputId": "73406bc8-e3c7-4d47-9ac8-9eca7c7386d3",
        "colab": {
          "base_uri": "https://localhost:8080/",
          "height": 34
        }
      },
      "source": [
        "s=\"python programming is easy \"\n",
        "print(s.replace(\"python\",\"c\"))"
      ],
      "execution_count": 0,
      "outputs": [
        {
          "output_type": "stream",
          "text": [
            "c programming is easy \n"
          ],
          "name": "stdout"
        }
      ]
    },
    {
      "cell_type": "markdown",
      "metadata": {
        "id": "J2hQ1HLlJ5ln",
        "colab_type": "text"
      },
      "source": [
        "#python tuples"
      ]
    },
    {
      "cell_type": "code",
      "metadata": {
        "id": "gL4durBiKBum",
        "colab_type": "code",
        "outputId": "bc1461f6-3120-4bf8-fd92-1ca00513b8c5",
        "colab": {
          "base_uri": "https://localhost:8080/",
          "height": 34
        }
      },
      "source": [
        "t1=(\"python\",\"progamming\",\" 1999\")\n",
        "print(t1)\n"
      ],
      "execution_count": 0,
      "outputs": [
        {
          "output_type": "stream",
          "text": [
            "('python', 'progamming', ' 1999')\n"
          ],
          "name": "stdout"
        }
      ]
    },
    {
      "cell_type": "code",
      "metadata": {
        "id": "-Ozib8OGO5px",
        "colab_type": "code",
        "outputId": "462f6dbf-6ac8-443d-c6b8-eab0286d4e7c",
        "colab": {
          "base_uri": "https://localhost:8080/",
          "height": 34
        }
      },
      "source": [
        "s=\"python programming is easy than c \"\n",
        "s1=\" not so much\"\n",
        "s2=s+s1\n",
        "print(s2)"
      ],
      "execution_count": 0,
      "outputs": [
        {
          "output_type": "stream",
          "text": [
            "python programming is easy than c  not so much\n"
          ],
          "name": "stdout"
        }
      ]
    },
    {
      "cell_type": "code",
      "metadata": {
        "id": "KPbx4TZLRTVA",
        "colab_type": "code",
        "colab": {}
      },
      "source": [
        "list1=[\"python\",\"programming\"]\n"
      ],
      "execution_count": 0,
      "outputs": []
    },
    {
      "cell_type": "code",
      "metadata": {
        "id": "OSORFUUE3i0g",
        "colab_type": "code",
        "outputId": "4d1b78b9-6255-4d45-9c50-62f96fc80810",
        "colab": {
          "base_uri": "https://localhost:8080/",
          "height": 51
        }
      },
      "source": [
        "contact={}\n",
        "def addcontact(name,phone):\n",
        "    if name not in contact:\n",
        "       contact[name]=phone\n",
        "       print(\"contact %s added\"% name)\n",
        "    else:\n",
        "        print(\"contact %s alreardy exits\"%name)\n",
        "        \n",
        "    return\n",
        "  \n",
        "addcontact(\"vikas\",9897646579)\n",
        "addcontact(\"sai\",99999999999)"
      ],
      "execution_count": 0,
      "outputs": [
        {
          "output_type": "stream",
          "text": [
            "contact vikas added\n",
            "contact sai added\n"
          ],
          "name": "stdout"
        }
      ]
    },
    {
      "cell_type": "code",
      "metadata": {
        "id": "vXWlEbk-Dek0",
        "colab_type": "code",
        "outputId": "ab6004aa-b43a-4897-ef99-3759884eaa63",
        "colab": {
          "base_uri": "https://localhost:8080/",
          "height": 34
        }
      },
      "source": [
        "contact={}\n",
        "def importcontacts(newcontact):\n",
        "  contact.update(newcontact)\n",
        "  print(len(newcontact.keys()),\"contacts added successful\")\n",
        "  return\n",
        "newcontact={\"dinesh\":995552345,\"ajay\":8888888888}\n",
        "importcontacts(newcontact)"
      ],
      "execution_count": 0,
      "outputs": [
        {
          "output_type": "stream",
          "text": [
            "2 contacts added successful\n"
          ],
          "name": "stdout"
        }
      ]
    },
    {
      "cell_type": "code",
      "metadata": {
        "id": "2kM8DCspHpH2",
        "colab_type": "code",
        "outputId": "83af1e02-81ad-458d-c8bc-bb4d9f32cec5",
        "colab": {
          "base_uri": "https://localhost:8080/",
          "height": 51
        }
      },
      "source": [
        "contacts={}\n",
        "def deletecontact(name):\n",
        "  if name in contacts:\n",
        "      del contacts[name]\n",
        "      print(name,\": is delated from the contacts\")\n",
        "  else:\n",
        "      print(name,\" is not exis in the contacts\")\n",
        "  return\n",
        "\n",
        "deletecontact(\"harsha\")\n",
        "deletecontact(\"naveen\")"
      ],
      "execution_count": 0,
      "outputs": [
        {
          "output_type": "stream",
          "text": [
            "harsha  is not exis in the contacts\n",
            "naveen  is not exis in the contacts\n"
          ],
          "name": "stdout"
        }
      ]
    },
    {
      "cell_type": "code",
      "metadata": {
        "id": "wdRVbxisKXiI",
        "colab_type": "code",
        "outputId": "b2822b39-7cd3-4db7-be5e-54979b5b33b0",
        "colab": {
          "base_uri": "https://localhost:8080/",
          "height": 51
        }
      },
      "source": [
        "contact={}\n",
        "def updatedcontact(name,phone):\n",
        "    if name in contact:\n",
        "        contact[name]=phone\n",
        "        print(name,\" : updated with new phone number\")\n",
        "    else:\n",
        "        print(name,\"not exists in the contacts\")\n",
        "    return\n",
        "  \n",
        "updatedcontact(\"vikas\",9589556485)\n",
        "updatedcontact(\" sai\",8585858585)"
      ],
      "execution_count": 0,
      "outputs": [
        {
          "output_type": "stream",
          "text": [
            "vikas not exists in the contacts\n",
            " sai not exists in the contacts\n"
          ],
          "name": "stdout"
        }
      ]
    }
  ]
}