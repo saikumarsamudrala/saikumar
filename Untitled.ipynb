{
  "nbformat": 4,
  "nbformat_minor": 0,
  "metadata": {
    "colab": {
      "name": "Untitled",
      "version": "0.3.2",
      "provenance": [],
      "toc_visible": true,
      "include_colab_link": true
    },
    "kernelspec": {
      "name": "python3",
      "display_name": "Python 3"
    }
  },
  "cells": [
    {
      "cell_type": "markdown",
      "metadata": {
        "id": "view-in-github",
        "colab_type": "text"
      },
      "source": [
        "<a href=\"https://colab.research.google.com/github/saikumarsamudrala/saikumar/blob/master/Untitled.ipynb\" target=\"_parent\"><img src=\"https://colab.research.google.com/assets/colab-badge.svg\" alt=\"Open In Colab\"/></a>"
      ]
    },
    {
      "cell_type": "markdown",
      "metadata": {
        "id": "F-MxUm5b7Q7C",
        "colab_type": "text"
      },
      "source": [
        ""
      ]
    },
    {
      "cell_type": "code",
      "metadata": {
        "id": "HovGE8QH7eVh",
        "colab_type": "code",
        "colab": {}
      },
      "source": [
        "s=\"application\"\n",
        "s1=\"app188\""
      ],
      "execution_count": 0,
      "outputs": []
    },
    {
      "cell_type": "code",
      "metadata": {
        "id": "G-KTtZ_g8TA_",
        "colab_type": "code",
        "outputId": "229257f7-7045-4395-f604-745326712160",
        "colab": {
          "base_uri": "https://localhost:8080/",
          "height": 34
        }
      },
      "source": [
        "s=\"python programming\"\n",
        "s1=\"python programming\"\n",
        "print(s.isspace())"
      ],
      "execution_count": 0,
      "outputs": [
        {
          "output_type": "stream",
          "text": [
            "False\n"
          ],
          "name": "stdout"
        }
      ]
    },
    {
      "cell_type": "markdown",
      "metadata": {
        "id": "StCHjoIl-ijM",
        "colab_type": "text"
      },
      "source": [
        "#string methods\n",
        "1.join()\n",
        "2split()\n",
        "3 replace"
      ]
    },
    {
      "cell_type": "code",
      "metadata": {
        "id": "cl_MDyh7-3kq",
        "colab_type": "code",
        "outputId": "c997b78a-8a6e-4711-df23-9dc4cc7a83e6",
        "colab": {
          "base_uri": "https://localhost:8080/",
          "height": 34
        }
      },
      "source": [
        "str =\"python\"\n",
        "print(\" \".join(str))"
      ],
      "execution_count": 0,
      "outputs": [
        {
          "output_type": "stream",
          "text": [
            "p y t h o n\n"
          ],
          "name": "stdout"
        }
      ]
    },
    {
      "cell_type": "code",
      "metadata": {
        "id": "W3RmKRpA_SxC",
        "colab_type": "code",
        "outputId": "ee8429c1-5871-4e05-9c69-5b44abb00d81",
        "colab": {
          "base_uri": "https://localhost:8080/",
          "height": 34
        }
      },
      "source": [
        "s=\"python programming is easy \"\n",
        "print(s.split())"
      ],
      "execution_count": 0,
      "outputs": [
        {
          "output_type": "stream",
          "text": [
            "['python', 'programming', 'is', 'easy']\n"
          ],
          "name": "stdout"
        }
      ]
    },
    {
      "cell_type": "code",
      "metadata": {
        "id": "Aud0jA0aC3iO",
        "colab_type": "code",
        "outputId": "1e9ebdf8-415b-4886-e218-f97ccc65f68d",
        "colab": {
          "base_uri": "https://localhost:8080/",
          "height": 51
        }
      },
      "source": [
        "s=\"python programming is easy \"\n",
        "lst=s.split()\n",
        "print(lst)\n",
        "print(lst.index(\"is\"))"
      ],
      "execution_count": 0,
      "outputs": [
        {
          "output_type": "stream",
          "text": [
            "['python', 'programming', 'is', 'easy']\n",
            "2\n"
          ],
          "name": "stdout"
        }
      ]
    },
    {
      "cell_type": "code",
      "metadata": {
        "id": "NBrJM2qkFFwY",
        "colab_type": "code",
        "outputId": "73406bc8-e3c7-4d47-9ac8-9eca7c7386d3",
        "colab": {
          "base_uri": "https://localhost:8080/",
          "height": 34
        }
      },
      "source": [
        "s=\"python programming is easy \"\n",
        "print(s.replace(\"python\",\"c\"))"
      ],
      "execution_count": 0,
      "outputs": [
        {
          "output_type": "stream",
          "text": [
            "c programming is easy \n"
          ],
          "name": "stdout"
        }
      ]
    },
    {
      "cell_type": "markdown",
      "metadata": {
        "id": "J2hQ1HLlJ5ln",
        "colab_type": "text"
      },
      "source": [
        "#python tuples"
      ]
    },
    {
      "cell_type": "code",
      "metadata": {
        "id": "gL4durBiKBum",
        "colab_type": "code",
        "outputId": "bc1461f6-3120-4bf8-fd92-1ca00513b8c5",
        "colab": {
          "base_uri": "https://localhost:8080/",
          "height": 34
        }
      },
      "source": [
        "t1=(\"python\",\"progamming\",\" 1999\")\n",
        "print(t1)\n"
      ],
      "execution_count": 0,
      "outputs": [
        {
          "output_type": "stream",
          "text": [
            "('python', 'progamming', ' 1999')\n"
          ],
          "name": "stdout"
        }
      ]
    },
    {
      "cell_type": "code",
      "metadata": {
        "id": "-Ozib8OGO5px",
        "colab_type": "code",
        "outputId": "462f6dbf-6ac8-443d-c6b8-eab0286d4e7c",
        "colab": {
          "base_uri": "https://localhost:8080/",
          "height": 34
        }
      },
      "source": [
        "s=\"python programming is easy than c \"\n",
        "s1=\" not so much\"\n",
        "s2=s+s1\n",
        "print(s2)"
      ],
      "execution_count": 0,
      "outputs": [
        {
          "output_type": "stream",
          "text": [
            "python programming is easy than c  not so much\n"
          ],
          "name": "stdout"
        }
      ]
    },
    {
      "cell_type": "code",
      "metadata": {
        "id": "KPbx4TZLRTVA",
        "colab_type": "code",
        "colab": {}
      },
      "source": [
        "list1=[\"python\",\"programming\"]\n"
      ],
      "execution_count": 0,
      "outputs": []
    },
    {
      "cell_type": "code",
      "metadata": {
        "id": "OSORFUUE3i0g",
        "colab_type": "code",
        "colab": {}
      },
      "source": [
        ""
      ],
      "execution_count": 0,
      "outputs": []
    }
  ]
}