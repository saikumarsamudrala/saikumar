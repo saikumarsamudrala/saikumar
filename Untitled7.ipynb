{
  "nbformat": 4,
  "nbformat_minor": 0,
  "metadata": {
    "colab": {
      "name": "Untitled7.ipynb",
      "version": "0.3.2",
      "provenance": [],
      "include_colab_link": true
    },
    "kernelspec": {
      "name": "python3",
      "display_name": "Python 3"
    }
  },
  "cells": [
    {
      "cell_type": "markdown",
      "metadata": {
        "id": "view-in-github",
        "colab_type": "text"
      },
      "source": [
        "<a href=\"https://colab.research.google.com/github/saikumarsamudrala/saikumar/blob/master/Untitled7.ipynb\" target=\"_parent\"><img src=\"https://colab.research.google.com/assets/colab-badge.svg\" alt=\"Open In Colab\"/></a>"
      ]
    },
    {
      "cell_type": "code",
      "metadata": {
        "id": "IrQz1YY6Kl1p",
        "colab_type": "code",
        "colab": {}
      },
      "source": [
        ""
      ],
      "execution_count": 0,
      "outputs": []
    },
    {
      "cell_type": "code",
      "metadata": {
        "id": "lstHitiKQpmp",
        "colab_type": "code",
        "outputId": "143f2f1a-6622-4ccf-c3de-db8a5497b2f0",
        "colab": {
          "base_uri": "https://localhost:8080/",
          "height": 34
        }
      },
      "source": [
        "def test():\n",
        "    print(\" test() for function\")\n",
        "    return\n",
        "test()"
      ],
      "execution_count": 0,
      "outputs": [
        {
          "output_type": "stream",
          "text": [
            " test() for function\n"
          ],
          "name": "stdout"
        }
      ]
    },
    {
      "cell_type": "code",
      "metadata": {
        "id": "eNRZTLO9RH1Q",
        "colab_type": "code",
        "outputId": "46bbd442-79d6-4191-a3c1-038e96e2fed5",
        "colab": {
          "base_uri": "https://localhost:8080/",
          "height": 34
        }
      },
      "source": [
        "class demo:\n",
        "     def test(self):\n",
        "         print(\"test() for the class and method\")\n",
        "         return\n",
        "obj=demo()\n",
        "obj.test()"
      ],
      "execution_count": 0,
      "outputs": [
        {
          "output_type": "stream",
          "text": [
            "test() for the class and method\n"
          ],
          "name": "stdout"
        }
      ]
    },
    {
      "cell_type": "code",
      "metadata": {
        "id": "3NJGFFwJRzLW",
        "colab_type": "code",
        "outputId": "d035fba3-218b-469c-feb2-3a639179e698",
        "colab": {
          "base_uri": "https://localhost:8080/",
          "height": 34
        }
      },
      "source": [
        "class demo1:\n",
        "     def fact(self,n):\n",
        "        fact=1\n",
        "        while(n!=0):\n",
        "          fact=fact*n\n",
        "          n=n-1\n",
        "        return fact\n",
        "      \n",
        "p1=demo1()\n",
        "print(p1.fact(5))"
      ],
      "execution_count": 0,
      "outputs": [
        {
          "output_type": "stream",
          "text": [
            "120\n"
          ],
          "name": "stdout"
        }
      ]
    },
    {
      "cell_type": "code",
      "metadata": {
        "id": "xKvyE3CfUCCD",
        "colab_type": "code",
        "colab": {}
      },
      "source": [
        "class demo2:\n",
        "    def _init_(self,p1,p2):\n",
        "        self.p1=p1\n",
        "        self\n",
        "      \n",
        "      \n",
        "      \n",
        "      \n",
        "      \n",
        "      \n",
        "      \n",
        "      "
      ],
      "execution_count": 0,
      "outputs": []
    },
    {
      "cell_type": "code",
      "metadata": {
        "id": "lP4oHPDT1pQe",
        "colab_type": "code",
        "outputId": "b2efd9bb-98d6-446d-ad5f-4b851c58a37e",
        "colab": {
          "base_uri": "https://localhost:8080/",
          "height": 34
        }
      },
      "source": [
        "import numpy as np\n",
        "lst=[1,2,3,4]\n",
        "array=np.array(lst)\n",
        "print(array)"
      ],
      "execution_count": 0,
      "outputs": [
        {
          "output_type": "stream",
          "text": [
            "[1 2 3 4]\n"
          ],
          "name": "stdout"
        }
      ]
    },
    {
      "cell_type": "code",
      "metadata": {
        "id": "vfZRGIMi38FB",
        "colab_type": "code",
        "colab": {}
      },
      "source": [
        "a1=np.array([(1,2,3)])"
      ],
      "execution_count": 0,
      "outputs": []
    }
  ]
}